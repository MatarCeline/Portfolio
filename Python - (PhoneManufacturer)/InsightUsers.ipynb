{
 "cells": [
  {
   "cell_type": "markdown",
   "metadata": {},
   "source": [
    "### Insight users \n",
    "The objective is to provide a macro-level characterization of the company's Teams.i.e working hours and workload"
   ]
  },
  {
   "cell_type": "code",
   "execution_count": 38,
   "metadata": {},
   "outputs": [],
   "source": [
    "#install libraries \n",
    "import pandas as pd \n",
    "pd.set_option('display.max_columns', None)\n",
    "import json"
   ]
  },
  {
   "cell_type": "code",
   "execution_count": null,
   "metadata": {},
   "outputs": [],
   "source": [
    "#read the datasets \n",
    "\n",
    "def handle_bad_lines(bad_line):\n",
    "    print(f\"Ligne problématique : {bad_line}\")\n",
    "    return pd.Series()\n",
    "jira_issues = pd.read_excel('jira_issue.xlsx')\n",
    "\n",
    "jira_issues\n",
    "jira_issues.shape \n",
    "jira_issues.info()\n",
    "jira_issues"
   ]
  },
  {
   "cell_type": "code",
   "execution_count": null,
   "metadata": {},
   "outputs": [],
   "source": [
    "jira_users = pd.read_excel('jira_users.xlsx')\n",
    "jira_users.info()\n",
    "jira_users"
   ]
  },
  {
   "cell_type": "code",
   "execution_count": 41,
   "metadata": {},
   "outputs": [
    {
     "data": {
      "text/plain": [
       "active           0\n",
       "accountId        0\n",
       "accountType      0\n",
       "displayName      0\n",
       "emailAddress    72\n",
       "dtype: int64"
      ]
     },
     "execution_count": 41,
     "metadata": {},
     "output_type": "execute_result"
    }
   ],
   "source": [
    "jira_users.isnull().sum()"
   ]
  },
  {
   "cell_type": "code",
   "execution_count": null,
   "metadata": {},
   "outputs": [],
   "source": [
    "jira_issue_types = pd.read_excel('jira_issue_types.xlsx')\n",
    "jira_issue_types.shape \n",
    "jira_issue_types.info()\n",
    "jira_issue_types\n"
   ]
  },
  {
   "cell_type": "code",
   "execution_count": 43,
   "metadata": {},
   "outputs": [
    {
     "data": {
      "text/plain": [
       "id                0\n",
       "name              0\n",
       "subtask           0\n",
       "avatarId          1\n",
       "description       4\n",
       "hierarchyLevel    0\n",
       "dtype: int64"
      ]
     },
     "execution_count": 43,
     "metadata": {},
     "output_type": "execute_result"
    }
   ],
   "source": [
    "jira_issue_types.isnull().sum()"
   ]
  },
  {
   "cell_type": "code",
   "execution_count": null,
   "metadata": {},
   "outputs": [],
   "source": [
    "jira_projects = pd.read_excel('jira_projects.xlsx')\n",
    "jira_projects.shape \n",
    "jira_projects.info()\n",
    "jira_projects"
   ]
  },
  {
   "cell_type": "code",
   "execution_count": 45,
   "metadata": {},
   "outputs": [
    {
     "data": {
      "text/plain": [
       "id                0\n",
       "key               0\n",
       "lead              0\n",
       "name              0\n",
       "projectTypeKey    0\n",
       "dtype: int64"
      ]
     },
     "execution_count": 45,
     "metadata": {},
     "output_type": "execute_result"
    }
   ],
   "source": [
    "jira_projects.isnull().sum()"
   ]
  },
  {
   "cell_type": "code",
   "execution_count": null,
   "metadata": {},
   "outputs": [],
   "source": [
    "jira_sprints = pd.read_excel('jira_sprints.xlsx')\n",
    "jira_sprints.shape \n",
    "jira_sprints.info()\n",
    "jira_sprints"
   ]
  },
  {
   "cell_type": "code",
   "execution_count": 47,
   "metadata": {},
   "outputs": [
    {
     "data": {
      "text/plain": [
       "id              0\n",
       "name            0\n",
       "state           0\n",
       "endDate         1\n",
       "startDate       1\n",
       "completeDate    2\n",
       "dtype: int64"
      ]
     },
     "execution_count": 47,
     "metadata": {},
     "output_type": "execute_result"
    }
   ],
   "source": [
    "jira_sprints.isnull().sum()"
   ]
  },
  {
   "cell_type": "code",
   "execution_count": null,
   "metadata": {},
   "outputs": [],
   "source": [
    "jira_sprint_issues = pd.read_excel('jira_sprint_issues.xlsx')\n",
    "jira_sprint_issues.shape \n",
    "jira_sprint_issues.info()\n",
    "jira_sprint_issues"
   ]
  },
  {
   "cell_type": "code",
   "execution_count": 49,
   "metadata": {},
   "outputs": [
    {
     "data": {
      "text/plain": [
       "id          0\n",
       "key         0\n",
       "fields      0\n",
       "issueId     0\n",
       "updated     0\n",
       "sprintId    0\n",
       "dtype: int64"
      ]
     },
     "execution_count": 49,
     "metadata": {},
     "output_type": "execute_result"
    }
   ],
   "source": [
    "jira_sprint_issues.isnull().sum()"
   ]
  },
  {
   "cell_type": "code",
   "execution_count": null,
   "metadata": {},
   "outputs": [],
   "source": [
    "jira_issue_fields = pd.read_excel('jira_issue_field.xlsx')\n",
    "jira_issue_fields.shape \n",
    "jira_issue_fields.info()\n",
    "jira_issue_fields"
   ]
  },
  {
   "cell_type": "code",
   "execution_count": 51,
   "metadata": {},
   "outputs": [
    {
     "data": {
      "text/plain": [
       "id        0\n",
       "key       0\n",
       "name      0\n",
       "custom    0\n",
       "schema    4\n",
       "dtype: int64"
      ]
     },
     "execution_count": 51,
     "metadata": {},
     "output_type": "execute_result"
    }
   ],
   "source": [
    "jira_issue_fields.isnull().sum()"
   ]
  },
  {
   "cell_type": "code",
   "execution_count": null,
   "metadata": {},
   "outputs": [],
   "source": [
    "jira_issue_custom_field_contexts = pd.read_excel('jira_issue_custom_field_contexts.xlsx')\n",
    "jira_issue_custom_field_contexts.shape \n",
    "jira_issue_custom_field_contexts.info()\n",
    "jira_issue_custom_field_contexts"
   ]
  },
  {
   "cell_type": "code",
   "execution_count": 53,
   "metadata": {},
   "outputs": [
    {
     "data": {
      "text/plain": [
       "id                 0\n",
       "name               0\n",
       "fieldId            0\n",
       "fieldType          0\n",
       "isGlobalContext    0\n",
       "dtype: int64"
      ]
     },
     "execution_count": 53,
     "metadata": {},
     "output_type": "execute_result"
    }
   ],
   "source": [
    "jira_issue_custom_field_contexts.isnull().sum()"
   ]
  },
  {
   "cell_type": "code",
   "execution_count": null,
   "metadata": {},
   "outputs": [],
   "source": [
    "jira_issue_custom_field_options = pd.read_excel('jira_issue_custom_field_options.xlsx')\n",
    "jira_issue_custom_field_options.shape \n",
    "jira_issue_custom_field_options.info()\n",
    "jira_issue_custom_field_options"
   ]
  },
  {
   "cell_type": "code",
   "execution_count": 55,
   "metadata": {},
   "outputs": [
    {
     "data": {
      "text/plain": [
       "id           0\n",
       "value        0\n",
       "fieldId      0\n",
       "contextId    0\n",
       "dtype: int64"
      ]
     },
     "execution_count": 55,
     "metadata": {},
     "output_type": "execute_result"
    }
   ],
   "source": [
    "jira_issue_custom_field_options.isnull().sum()"
   ]
  },
  {
   "cell_type": "code",
   "execution_count": null,
   "metadata": {},
   "outputs": [],
   "source": [
    "tempo_worklogs = pd.read_csv('tempo_worklogs.csv')\n",
    "tempo_worklogs.shape \n",
    "tempo_worklogs.info()\n",
    "tempo_worklogs"
   ]
  },
  {
   "cell_type": "code",
   "execution_count": 81,
   "metadata": {},
   "outputs": [
    {
     "data": {
      "text/plain": [
       "self                     0\n",
       "issue                    0\n",
       "author                   0\n",
       "createdAt                0\n",
       "startDate                0\n",
       "startTime                0\n",
       "updatedAt                0\n",
       "attributes               0\n",
       "description              0\n",
       "tempoWorklogId           0\n",
       "billableSeconds          0\n",
       "timeSpentSeconds         0\n",
       "_airbyte_raw_id          0\n",
       "_airbyte_extracted_at    0\n",
       "_airbyte_meta            0\n",
       "dtype: int64"
      ]
     },
     "execution_count": 81,
     "metadata": {},
     "output_type": "execute_result"
    }
   ],
   "source": [
    "tempo_worklogs.isna().sum()"
   ]
  },
  {
   "cell_type": "code",
   "execution_count": null,
   "metadata": {},
   "outputs": [],
   "source": [
    "#extraction \"accountID\" de la colonne field de la table Issues :\n",
    "df = jira_issues\n",
    "\n",
    "def extract_multiple_values(json_str, key):\n",
    "    try:\n",
    "        data = json.loads(json_str)\n",
    "        values = []\n",
    "        def search_key(obj):\n",
    "            if isinstance(obj, dict):\n",
    "                for k, v in obj.items():\n",
    "                    if k == key:\n",
    "                        values.append(v)\n",
    "                    elif isinstance(v, (dict, list)):\n",
    "                        search_key(v)\n",
    "            elif isinstance(obj, list):\n",
    "                for item in obj:\n",
    "                    search_key(item)\n",
    "        search_key(data)\n",
    "        return values\n",
    "    except json.JSONDecodeError:\n",
    "        return None\n",
    "df['accountIds'] = df['fields'].apply(lambda x: extract_multiple_values(x, 'accountId'))\n",
    "print(df[['fields', 'accountIds']].head())\n",
    "df_display = df[['fields', 'accountIds']]"
   ]
  },
  {
   "cell_type": "code",
   "execution_count": 60,
   "metadata": {},
   "outputs": [
    {
     "name": "stdout",
     "output_type": "stream",
     "text": [
      "Nombre de personnes actives : 1432\n",
      "Nombre de personnes inactives : 29\n"
     ]
    }
   ],
   "source": [
    "# Compter le nombre de personnes actives\n",
    "active_count = jira_users['active'].sum()\n",
    "\n",
    "# Compter le nombre de personnes inactives\n",
    "inactive_count = (~jira_users['active']).sum()\n",
    "\n",
    "# Afficher les résultats\n",
    "print(f\"Nombre de personnes actives : {active_count}\")\n",
    "print(f\"Nombre de personnes inactives : {inactive_count}\")"
   ]
  },
  {
   "cell_type": "code",
   "execution_count": null,
   "metadata": {},
   "outputs": [],
   "source": [
    "# Étape 1 : Extraire l'accountId de la colonne 'author'\n",
    "def extract_account_id(author_json):\n",
    "    author_dict = json.loads(author_json.replace(\"'\", \"\\\"\"))\n",
    "    return author_dict['accountId']\n",
    "\n",
    "tempo_worklogs['accountId'] = tempo_worklogs['author'].apply(extract_account_id)\n",
    "\n",
    "# Étape 2 : Fusionner les DataFrames tempo_worklogs et jira_users\n",
    "merged_df = pd.merge(tempo_worklogs, jira_users[['accountId', 'displayName']], on='accountId', how='left')\n",
    "\n",
    "# Étape 3 : Calculer le taux de remplissage pour chaque colonne de temps par utilisateur\n",
    "time_columns = ['billableSeconds', 'timeSpentSeconds']\n",
    "\n",
    "result = merged_df.groupby('displayName')[time_columns].agg(['count', 'sum'])\n",
    "result.columns = ['_'.join(col).strip() for col in result.columns.values]\n",
    "\n",
    "# Trier les résultats par le taux de remplissage de tempoWorklogId décroissant\n",
    "result = result.sort_values('timeSpentSeconds_sum', ascending=False)\n",
    "\n",
    "# Afficher les résultats\n",
    "display(result)\n",
    "\n"
   ]
  },
  {
   "cell_type": "code",
   "execution_count": null,
   "metadata": {},
   "outputs": [],
   "source": [
    "#extraire les accound id des jsons \n",
    "\n",
    "def extract_account_id(fields):\n",
    "    try:\n",
    "        fields_dict = json.loads(fields.replace(\"'\", \"\\\"\"))\n",
    "        return fields_dict.get('creator', {}).get('accountId')\n",
    "    except:\n",
    "        return None\n",
    "\n",
    "# Appliquer la fonction pour extraire les accountId\n",
    "jira_issues['accountId'] = jira_issues['fields'].apply(extract_account_id)\n",
    "\n",
    "# Compter le nombre d'issues par utilisateur\n",
    "issue_count_per_user = jira_issues['accountId'].value_counts().reset_index()\n",
    "issue_count_per_user.columns = ['accountId', 'issue_count']\n",
    "\n",
    "# Fusionner avec jira_users pour obtenir les noms d'affichage\n",
    "result = pd.merge(issue_count_per_user, jira_users[['accountId', 'displayName']], on='accountId', how='left')\n",
    "\n",
    "# Trier par nombre d'issues décroissant\n",
    "result = result.sort_values('issue_count', ascending=False)\n",
    "\n",
    "# Afficher les résultats\n",
    "display(result)\n"
   ]
  },
  {
   "cell_type": "code",
   "execution_count": null,
   "metadata": {},
   "outputs": [],
   "source": [
    "#sortir les collaborateurs qui ont travaillé sur chaque projet \n",
    "\n",
    "def extract_project_and_creator(row):\n",
    "    try:\n",
    "        fields = json.loads(row['fields'].replace(\"'\", \"\\\"\"))\n",
    "        project_id = fields['project']['id']\n",
    "        creator_id = fields['creator']['accountId']\n",
    "        creator_name = fields['creator']['displayName']\n",
    "        return pd.Series([project_id, creator_id, creator_name])\n",
    "    except:\n",
    "        return pd.Series([None, None, None])\n",
    "\n",
    "# Appliquer la fonction pour extraire les informations\n",
    "jira_issues[['projectId', 'creatorId', 'creatorName']] = jira_issues.apply(extract_project_and_creator, axis=1)\n",
    "\n",
    "# Grouper par projectId et obtenir la liste des utilisateurs uniques ainsi que leur nombre\n",
    "project_users = jira_issues.groupby('projectId').agg({\n",
    "    'creatorName': lambda x: list(set(x)),\n",
    "    'projectKey': 'first',  # Supposons que projectKey est unique pour chaque projectId\n",
    "    'creatorId': 'nunique'  # Compter le nombre d'utilisateurs uniques\n",
    "}).reset_index()\n",
    "\n",
    "# Renommer les colonnes pour plus de clarté\n",
    "project_users.columns = ['projectId', 'users', 'projectKey', 'user_count']\n",
    "\n",
    "# Trier par projectId\n",
    "project_users = project_users.sort_values('projectId')\n",
    "\n",
    "# Afficher les résultats\n",
    "for _, row in project_users.iterrows():\n",
    "    print(f\"Projet ID: {row['projectId']}, Clé: {row['projectKey']}\")\n",
    "    print(f\"Nombre d'utilisateurs: {row['user_count']}\")\n",
    "    print(\"Utilisateurs:\")\n",
    "    for user in row['users']:\n",
    "        print(f\"  - {user}\")\n",
    "    print()\n",
    "\n",
    "# Afficher le nombre total de projets\n",
    "print(f\"Nombre total de projets : {len(project_users)}\")\n",
    "\n",
    "# Afficher le nombre total d'utilisateurs uniques à travers tous les projets\n",
    "total_unique_users = jira_issues['creatorId'].nunique()\n",
    "print(f\"Nombre total d'utilisateurs uniques : {total_unique_users}\")"
   ]
  },
  {
   "cell_type": "code",
   "execution_count": null,
   "metadata": {},
   "outputs": [],
   "source": [
    "#calculer le temps passé par projet \n",
    "\n",
    "\n",
    "def extract_project_and_time(row):\n",
    "    try:\n",
    "        fields = json.loads(row['fields'].replace(\"'\", \"\\\"\"))\n",
    "        project_id = fields['project']['id']\n",
    "        project_key = fields['project']['key']\n",
    "        project_name = fields['project']['name']\n",
    "        time_spent = sum(worklog['timeSpentSeconds'] for worklog in fields['worklog']['worklogs'])\n",
    "        return pd.Series([project_id, project_key, project_name, time_spent])\n",
    "    except:\n",
    "        return pd.Series([None, None, None, 0])\n",
    "\n",
    "# Appliquer la fonction à chaque ligne du DataFrame jira_issues\n",
    "jira_issues[['projectId', 'projectKey', 'projectName', 'timeSpent']] = jira_issues.apply(extract_project_and_time, axis=1)\n",
    "\n",
    "# Grouper par projet et sommer le temps passé\n",
    "project_time = jira_issues.groupby(['projectId', 'projectKey', 'projectName'])['timeSpent'].sum().reset_index()\n",
    "\n",
    "# Trier par temps passé décroissant\n",
    "project_time = project_time.sort_values('timeSpent', ascending=False)\n",
    "\n",
    "# Convertir les secondes en heures et en jours de travail\n",
    "project_time['timeSpentHours'] = project_time['timeSpent'] / 3600\n",
    "project_time['timeSpentWorkDays'] = project_time['timeSpentHours'] / 8\n",
    "\n",
    "# Afficher les résultats\n",
    "print(\"Temps passé par projet :\")\n",
    "for _, row in project_time.iterrows():\n",
    "    print(f\"Projet : {row['projectName']} (ID: {row['projectId']}, Clé: {row['projectKey']})\")\n",
    "    print(f\"  Temps passé : {row['timeSpentWorkDays']:.2f} jours de travail ({row['timeSpentHours']:.2f} heures)\")\n",
    "    print()\n",
    "\n",
    "# Calculer le temps total passé sur tous les projets\n",
    "total_time = project_time['timeSpent'].sum()\n",
    "total_time_hours = total_time / 3600\n",
    "total_time_work_days = total_time_hours / 8\n",
    "\n",
    "print(f\"Temps total passé sur tous les projets : {total_time_work_days:.2f} jours de travail ({total_time_hours:.2f} heures)\")"
   ]
  },
  {
   "cell_type": "code",
   "execution_count": null,
   "metadata": {},
   "outputs": [],
   "source": [
    "def extract_priority_and_creator(row):\n",
    "    try:\n",
    "        fields = json.loads(row['fields'].replace(\"'\", \"\\\"\"))\n",
    "        priority = fields.get('priority', {}).get('name', 'Non définie')\n",
    "        creator_id = fields.get('creator', {}).get('accountId', 'Inconnu')\n",
    "        creator_name = fields.get('creator', {}).get('displayName', 'Inconnu')\n",
    "        return pd.Series([priority, creator_id, creator_name])\n",
    "    except:\n",
    "        return pd.Series(['Erreur', 'Erreur', 'Erreur'])\n",
    "\n",
    "# Appliquer la fonction pour extraire la priorité et le créateur\n",
    "jira_issues[['priority', 'creator_id', 'creator_name']] = jira_issues.apply(extract_priority_and_creator, axis=1)\n",
    "\n",
    "# Grouper par créateur et priorité, et compter le nombre de tâches\n",
    "task_count = jira_issues.groupby(['creator_name', 'priority']).size().unstack(fill_value=0)\n",
    "\n",
    "# Ajouter une colonne pour le total des tâches par utilisateur\n",
    "task_count['Total'] = task_count.sum(axis=1)\n",
    "\n",
    "# Trier par le nombre total de tâches décroissant\n",
    "task_count = task_count.sort_values('Total', ascending=False)\n",
    "\n",
    "# Afficher les résultats\n",
    "display(task_count)"
   ]
  },
  {
   "cell_type": "code",
   "execution_count": 67,
   "metadata": {},
   "outputs": [
    {
     "data": {
      "image/png": "[encoded data removed]",
      "text/plain": [
       "<Figure size 1200x600 with 1 Axes>"
      ]
     },
     "metadata": {},
     "output_type": "display_data"
    },
    {
     "name": "stdout",
     "output_type": "stream",
     "text": [
      "priority\n",
      "Basse             36\n",
      "Erreur          8877\n",
      "HOTFIX (Bug)      11\n",
      "Haute            232\n",
      "Moyenne         1074\n",
      "TrÃ¨s haute       94\n",
      "Name: count, dtype: int64\n"
     ]
    }
   ],
   "source": [
    "import matplotlib.pyplot as plt\n",
    "\n",
    "def extract_priority_and_creator(row):\n",
    "    try:\n",
    "        fields = json.loads(row['fields'].replace(\"'\", \"\\\"\"))\n",
    "        priority = fields.get('priority', {}).get('name', 'Non définie')\n",
    "        creator_id = fields.get('creator', {}).get('accountId', 'Inconnu')\n",
    "        creator_name = fields.get('creator', {}).get('displayName', 'Inconnu')\n",
    "        return pd.Series([priority, creator_id, creator_name])\n",
    "    except:\n",
    "        return pd.Series(['Erreur', 'Erreur', 'Erreur'])\n",
    "\n",
    "# Appliquer la fonction pour extraire la priorité et le créateur\n",
    "jira_issues[['priority', 'creator_id', 'creator_name']] = jira_issues.apply(extract_priority_and_creator, axis=1)\n",
    "\n",
    "# Grouper par priorité et compter le nombre de tâches\n",
    "priority_count = jira_issues['priority'].value_counts().sort_index()\n",
    "\n",
    "# Créer l'histogramme\n",
    "plt.figure(figsize=(12, 6))\n",
    "priority_count.plot(kind='bar')\n",
    "plt.title('Nombre total de tâches par priorité')\n",
    "plt.xlabel('Priorité')\n",
    "plt.ylabel('Nombre de tâches')\n",
    "plt.xticks(rotation=45)\n",
    "\n",
    "# Ajouter les valeurs sur chaque barre\n",
    "for i, v in enumerate(priority_count):\n",
    "    plt.text(i, v, str(v), ha='center', va='bottom')\n",
    "\n",
    "plt.tight_layout()\n",
    "plt.show()\n",
    "\n",
    "# Afficher les résultats numériques\n",
    "print(priority_count)"
   ]
  },
  {
   "cell_type": "code",
   "execution_count": null,
   "metadata": {},
   "outputs": [],
   "source": [
    "def extract_user_info(author_json):\n",
    "    author_dict = json.loads(author_json.replace(\"'\", \"\\\"\"))\n",
    "    return author_dict.get('accountId', 'Inconnu')\n",
    "\n",
    "def extract_category(attributes_json):\n",
    "    attributes_dict = json.loads(attributes_json.replace(\"'\", \"\\\"\"))\n",
    "    values = attributes_dict.get('values', [])\n",
    "    for value in values:\n",
    "        if value.get('key') == '_Type_':\n",
    "            return value.get('value')\n",
    "    return 'Non défini'\n",
    "\n",
    "# Extraire l'accountId et la catégorie\n",
    "tempo_worklogs['accountId'] = tempo_worklogs['author'].apply(extract_user_info)\n",
    "tempo_worklogs['category'] = tempo_worklogs['attributes'].apply(extract_category)\n",
    "\n",
    "# Convertir timeSpentSeconds en type numérique\n",
    "tempo_worklogs['timeSpentSeconds'] = pd.to_numeric(tempo_worklogs['timeSpentSeconds'], errors='coerce')\n",
    "\n",
    "# Jointure avec la table jira_users\n",
    "merged_df = pd.merge(tempo_worklogs, jira_users[['accountId', 'displayName']], on='accountId', how='left')\n",
    "\n",
    "# Grouper par utilisateur (displayName) et catégorie, puis sommer le temps passé\n",
    "time_by_user_and_category = merged_df.groupby(['displayName', 'category'])['timeSpentSeconds'].sum().reset_index()\n",
    "\n",
    "# Convertir le temps de secondes en heures pour une meilleure lisibilité\n",
    "time_by_user_and_category['timeSpentHours'] = time_by_user_and_category['timeSpentSeconds'] / 3600\n",
    "\n",
    "# Afficher les résultats\n",
    "display(\"Temps total par utilisateur et catégorie :\")\n",
    "display(time_by_user_and_category)"
   ]
  },
  {
   "cell_type": "code",
   "execution_count": null,
   "metadata": {},
   "outputs": [],
   "source": [
    "def extract_user_info(author_json):\n",
    "    author_dict = json.loads(author_json.replace(\"'\", \"\\\"\"))\n",
    "    return author_dict.get('accountId', 'Inconnu')\n",
    "\n",
    "def extract_category(attributes_json):\n",
    "    attributes_dict = json.loads(attributes_json.replace(\"'\", \"\\\"\"))\n",
    "    values = attributes_dict.get('values', [])\n",
    "    for value in values:\n",
    "        if value.get('key') == '_Type_':\n",
    "            return value.get('value')\n",
    "    return 'Non défini'\n",
    "\n",
    "def categorize(category):\n",
    "    if category in ['Developpement', 'Specification', 'Deploiement']:\n",
    "        return 'Tech'\n",
    "    elif category in ['Analyse', 'ReunionInterne', 'Code Review']:\n",
    "        return 'Interne'\n",
    "    else:\n",
    "        return 'Autre'\n",
    "\n",
    "# Extraire l'accountId et la catégorie\n",
    "tempo_worklogs['accountId'] = tempo_worklogs['author'].apply(extract_user_info)\n",
    "tempo_worklogs['category'] = tempo_worklogs['attributes'].apply(extract_category)\n",
    "\n",
    "# Appliquer la nouvelle catégorisation\n",
    "tempo_worklogs['grouped_category'] = tempo_worklogs['category'].apply(categorize)\n",
    "\n",
    "# Jointure avec la table jira_users\n",
    "merged_df = pd.merge(tempo_worklogs, jira_users[['accountId', 'displayName']], on='accountId', how='left')\n",
    "\n",
    "# Grouper par utilisateur (displayName) et catégorie groupée, puis sommer le temps passé\n",
    "time_by_user_and_category = merged_df.groupby(['displayName', 'grouped_category'])['timeSpentSeconds'].sum().unstack(fill_value=0)\n",
    "\n",
    "# Ajouter une colonne pour le total\n",
    "time_by_user_and_category['Total'] = time_by_user_and_category.sum(axis=1)\n",
    "\n",
    "# Convertir le temps de secondes en heures\n",
    "for col in time_by_user_and_category.columns:\n",
    "    time_by_user_and_category[f'{col} (heures)'] = time_by_user_and_category[col] / 3600\n",
    "\n",
    "# Trier par le total décroissant\n",
    "time_by_user_and_category = time_by_user_and_category.sort_values('Total', ascending=False)\n",
    "\n",
    "# Afficher les résultats\n",
    "display(\"Temps total par utilisateur et catégorie (en heures) :\")\n",
    "display(time_by_user_and_category[['Tech (heures)', 'Interne (heures)', 'Autre (heures)', 'Total (heures)']])"
   ]
  },
  {
   "cell_type": "code",
   "execution_count": 76,
   "metadata": {},
   "outputs": [
    {
     "data": {
      "image/png": "[encoded data removed]",
      "text/plain": [
       "<Figure size 1000x800 with 1 Axes>"
      ]
     },
     "metadata": {},
     "output_type": "display_data"
    },
    {
     "name": "stdout",
     "output_type": "stream",
     "text": [
      "Temps total par catégorie (en heures) :\n",
      "Autre: 554.35 heures\n",
      "Interne: 253.92 heures\n",
      "Tech: 355.92 heures\n"
     ]
    }
   ],
   "source": [
    "import matplotlib.pyplot as plt\n",
    "\n",
    "def extract_user_info(author_json):\n",
    "    author_dict = json.loads(author_json.replace(\"'\", \"\\\"\"))\n",
    "    return author_dict.get('accountId', 'Inconnu')\n",
    "\n",
    "def extract_category(attributes_json):\n",
    "    attributes_dict = json.loads(attributes_json.replace(\"'\", \"\\\"\"))\n",
    "    values = attributes_dict.get('values', [])\n",
    "    for value in values:\n",
    "        if value.get('key') == '_Type_':\n",
    "            return value.get('value')\n",
    "    return 'Non défini'\n",
    "\n",
    "def categorize(category):\n",
    "    if category in ['Developpement', 'Specification', 'Deploiement','Maquette']:\n",
    "        return 'Tech'\n",
    "    elif category in ['Analyse', 'ReunionInterne', 'Code Review']:\n",
    "        return 'Interne'\n",
    "    else:\n",
    "        return 'Autre'\n",
    "\n",
    "# Extraire l'accountId et la catégorie\n",
    "tempo_worklogs['accountId'] = tempo_worklogs['author'].apply(extract_user_info)\n",
    "tempo_worklogs['category'] = tempo_worklogs['attributes'].apply(extract_category)\n",
    "\n",
    "# Appliquer la nouvelle catégorisation\n",
    "tempo_worklogs['grouped_category'] = tempo_worklogs['category'].apply(categorize)\n",
    "\n",
    "# Calculer le temps total pour chaque catégorie groupée\n",
    "total_time_by_category = tempo_worklogs.groupby('grouped_category')['timeSpentSeconds'].sum()\n",
    "\n",
    "# Créer le camembert\n",
    "plt.figure(figsize=(10, 8))\n",
    "plt.pie(total_time_by_category, labels=total_time_by_category.index, autopct='%1.1f%%', startangle=90)\n",
    "plt.title('Répartition du temps total par catégorie')\n",
    "plt.axis('equal')  # Equal aspect ratio ensures that pie is drawn as a circle\n",
    "\n",
    "# Afficher le graphique\n",
    "plt.show()\n",
    "\n",
    "# Afficher les valeurs numériques\n",
    "print(\"Temps total par catégorie (en heures) :\")\n",
    "for category, time in total_time_by_category.items():\n",
    "    print(f\"{category}: {time/3600:.2f} heures\")"
   ]
  },
  {
   "cell_type": "code",
   "execution_count": null,
   "metadata": {},
   "outputs": [],
   "source": [
    "df = pd.read_csv('IssuesavecCF.csv', delimiter=';')\n",
    "df.shape \n",
    "df.info()\n",
    "df"
   ]
  },
  {
   "cell_type": "code",
   "execution_count": null,
   "metadata": {},
   "outputs": [],
   "source": [
    "# Function to extract project key from the 'fields' column\n",
    "def extract_project_key(fields_json):\n",
    "    try:\n",
    "        fields = json.loads(fields_json.replace(\"'\", \"\\\"\"))\n",
    "        return fields['project']['key']\n",
    "    except:\n",
    "        return None\n",
    "\n",
    "# Extract project key\n",
    "df['project_key'] = df['fields'].apply(extract_project_key)\n",
    "\n",
    "# Group by project and sum the estimated hours\n",
    "project_estimation = df.groupby('project_key')['Macro_estimation_epic_heure'].sum().reset_index()\n",
    "\n",
    "# Rename columns for clarity\n",
    "project_estimation = project_estimation.rename(columns={\n",
    "    'Macro_estimation_epic_heure': 'Estimated_Hours'\n",
    "})\n",
    "\n",
    "# Sort by estimated hours descending\n",
    "project_estimation = project_estimation.sort_values('Estimated_Hours', ascending=False)\n",
    "\n",
    "# Display the results\n",
    "print(\"Estimation par projet (en heures) :\")\n",
    "print(project_estimation)\n",
    "\n",
    "# Optional: Calculate and display total estimation\n",
    "total_estimated = project_estimation['Estimated_Hours'].sum()\n",
    "print(f\"\\nTotal des heures estimées pour tous les projets : {total_estimated:.2f}\")"
   ]
  },
  {
   "cell_type": "code",
   "execution_count": null,
   "metadata": {},
   "outputs": [],
   "source": [
    "# Function to extract project key from the 'fields' column\n",
    "def extract_project_key(fields_json):\n",
    "    try:\n",
    "        fields = json.loads(fields_json.replace(\"'\", \"\\\"\"))\n",
    "        return fields['project']['key']\n",
    "    except:\n",
    "        return None\n",
    "\n",
    "# Function to extract issue ID from JSON string in tempo_worklogs\n",
    "def extract_issue_id(issue_json):\n",
    "    try:\n",
    "        issue_dict = json.loads(issue_json.replace(\"'\", \"\\\"\"))\n",
    "        return issue_dict['id']\n",
    "    except:\n",
    "        return None\n",
    "\n",
    "# Extract project key from df\n",
    "df['project_key'] = df['fields'].apply(extract_project_key)\n",
    "\n",
    "# Extract issue ID from tempo_worklogs\n",
    "tempo_worklogs['issue_id'] = tempo_worklogs['issue'].apply(extract_issue_id)\n",
    "\n",
    "# Convert timeSpentSeconds to numeric in tempo_worklogs\n",
    "tempo_worklogs['timeSpentSeconds'] = pd.to_numeric(tempo_worklogs['timeSpentSeconds'], errors='coerce')\n",
    "\n",
    "# Merge df with tempo_worklogs\n",
    "merged_df = pd.merge(df[['id', 'project_key', 'Macro_estimation_epic_heure']], \n",
    "                     tempo_worklogs[['issue_id', 'timeSpentSeconds']], \n",
    "                     left_on='id', right_on='issue_id', \n",
    "                     how='outer')\n",
    "\n",
    "# Group by project and sum the estimated hours and actual time spent\n",
    "project_summary = merged_df.groupby('project_key').agg({\n",
    "    'Macro_estimation_epic_heure': 'sum',\n",
    "    'timeSpentSeconds': 'sum'\n",
    "}).reset_index()\n",
    "\n",
    "# Rename columns for clarity and convert seconds to hours\n",
    "project_summary = project_summary.rename(columns={\n",
    "    'Macro_estimation_epic_heure': 'Estimated_Hours',\n",
    "    'timeSpentSeconds': 'Actual_Seconds'\n",
    "})\n",
    "project_summary['Actual_Hours'] = project_summary['Actual_Seconds'] / 3600\n",
    "#project_summary['Estimated_Hours'] = project_summary['Estimated_Hours'] / 3600\n",
    "\n",
    "# Sort by estimated hours descending\n",
    "project_summary = project_summary.sort_values('Estimated_Hours', ascending=False)\n",
    "\n",
    "# Select and reorder columns\n",
    "project_summary = project_summary[['project_key', 'Estimated_Hours', 'Actual_Hours']]\n",
    "\n",
    "# Display the results\n",
    "print(\"Estimation et temps réel par projet (en heures) :\")\n",
    "print(project_summary)\n",
    "\n",
    "# Optional: Calculate and display totals\n",
    "total_estimated = project_summary['Estimated_Hours'].sum()\n",
    "total_actual = project_summary['Actual_Hours'].sum()\n",
    "print(f\"\\nTotal des heures estimées pour tous les projets : {total_estimated:.2f}\")\n",
    "print(f\"Total des heures réelles pour tous les projets : {total_actual:.2f}\")\n",
    "print(f\"Différence (Réel - Estimé) : {total_actual - total_estimated:.2f}\")"
   ]
  }
 ],
 "metadata": {
  "kernelspec": {
   "display_name": "base",
   "language": "python",
   "name": "python3"
  },
  "language_info": {
   "codemirror_mode": {
    "name": "ipython",
    "version": 3
   },
   "file_extension": ".py",
   "mimetype": "text/x-python",
   "name": "python",
   "nbconvert_exporter": "python",
   "pygments_lexer": "ipython3",
   "version": "3.11.7"
  }
 },
 "nbformat": 4,
 "nbformat_minor": 2
}
