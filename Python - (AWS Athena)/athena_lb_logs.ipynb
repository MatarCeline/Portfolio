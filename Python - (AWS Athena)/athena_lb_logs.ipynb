{
 "cells": [
  {
   "cell_type": "markdown",
   "metadata": {},
   "source": [
    "# AWS Athena to analyse Load Balancer access logs\n",
    "In this notebook, we'll query AWS Athena from Python using the `awswrangler` library. The AWS credentials will be fetched from environment variables.\n",
    "There has been a traffic increase on the production Network Load Balancer the 5th of october 2024 and we try to understand why by analysing its access logs. \n",
    "Details regarding the NLB's access logs can be found here : https://docs.aws.amazon.com/elasticloadbalancing/latest/network/load-balancer-access-logs.html"
   ]
  },
  {
   "cell_type": "code",
   "execution_count": 3,
   "metadata": {},
   "outputs": [],
   "source": [
    "# Import necessary libraries\n",
    "import os\n",
    "import awswrangler as wr\n",
    "import pandas as pd\n",
    "\n",
    "# Set up environment variables (optional, in case not already set)\n",
    "#os.environ['AWS_ACCESS_KEY_ID'] = 'your-access-key-id'\n",
    "#os.environ['AWS_SECRET_ACCESS_KEY'] = 'your-secret-access-key'\n",
    "os.environ['AWS_REGION'] = 'eu-west-1'\n",
    "\n",
    "DATABASE = \"access_logs\"\n",
    "TABLE = \"access_logs_nlb\"\n",
    "WORKGROUP = \"primary\"\n",
    "S3_OUTPUT = os.environ['S3_OUTPUT']\n",
    "START_TIME_BEFORE_ISSUE = '2024-10-05T01:00:00' # We look also look at data before the issue so to make comparisons. So we look at data from 1 AM to 2 AM, before the issue\n",
    "END_TIME_BEFORE_ISSUE = '2024-10-05T02:00:00'\n",
    "START_TIME_DURING_ISSUE = '2024-10-05T02:00:00' # Issue started at 2 AM and ended at 03 AM\n",
    "END_TIME_DURING_ISSUE = '2024-10-05T03:00:00'\n",
    "DATE_DAY= '2024/10/05'\n",
    "\n"
   ]
  },
  {
   "cell_type": "markdown",
   "metadata": {},
   "source": [
    "### Show the Schema of the data defined in Glue\n"
   ]
  },
  {
   "cell_type": "code",
   "execution_count": 4,
   "id": "17e387ce",
   "metadata": {},
   "outputs": [
    {
     "data": {
      "text/html": [
       "<div>\n",
       "<style scoped>\n",
       "    .dataframe tbody tr th:only-of-type {\n",
       "        vertical-align: middle;\n",
       "    }\n",
       "\n",
       "    .dataframe tbody tr th {\n",
       "        vertical-align: top;\n",
       "    }\n",
       "\n",
       "    .dataframe thead th {\n",
       "        text-align: right;\n",
       "    }\n",
       "</style>\n",
       "<table border=\"1\" class=\"dataframe\">\n",
       "  <thead>\n",
       "    <tr style=\"text-align: right;\">\n",
       "      <th></th>\n",
       "      <th>Column Name</th>\n",
       "      <th>Type</th>\n",
       "      <th>Partition</th>\n",
       "      <th>Comment</th>\n",
       "    </tr>\n",
       "  </thead>\n",
       "  <tbody>\n",
       "    <tr>\n",
       "      <th>0</th>\n",
       "      <td>type</td>\n",
       "      <td>string</td>\n",
       "      <td>False</td>\n",
       "      <td></td>\n",
       "    </tr>\n",
       "    <tr>\n",
       "      <th>1</th>\n",
       "      <td>version</td>\n",
       "      <td>string</td>\n",
       "      <td>False</td>\n",
       "      <td></td>\n",
       "    </tr>\n",
       "    <tr>\n",
       "      <th>2</th>\n",
       "      <td>time</td>\n",
       "      <td>string</td>\n",
       "      <td>False</td>\n",
       "      <td></td>\n",
       "    </tr>\n",
       "    <tr>\n",
       "      <th>3</th>\n",
       "      <td>elb</td>\n",
       "      <td>string</td>\n",
       "      <td>False</td>\n",
       "      <td></td>\n",
       "    </tr>\n",
       "    <tr>\n",
       "      <th>4</th>\n",
       "      <td>listener_id</td>\n",
       "      <td>string</td>\n",
       "      <td>False</td>\n",
       "      <td></td>\n",
       "    </tr>\n",
       "    <tr>\n",
       "      <th>5</th>\n",
       "      <td>client_ip</td>\n",
       "      <td>string</td>\n",
       "      <td>False</td>\n",
       "      <td></td>\n",
       "    </tr>\n",
       "    <tr>\n",
       "      <th>6</th>\n",
       "      <td>client_port</td>\n",
       "      <td>int</td>\n",
       "      <td>False</td>\n",
       "      <td></td>\n",
       "    </tr>\n",
       "    <tr>\n",
       "      <th>7</th>\n",
       "      <td>target_ip</td>\n",
       "      <td>string</td>\n",
       "      <td>False</td>\n",
       "      <td></td>\n",
       "    </tr>\n",
       "    <tr>\n",
       "      <th>8</th>\n",
       "      <td>target_port</td>\n",
       "      <td>int</td>\n",
       "      <td>False</td>\n",
       "      <td></td>\n",
       "    </tr>\n",
       "    <tr>\n",
       "      <th>9</th>\n",
       "      <td>tcp_connection_time_ms</td>\n",
       "      <td>double</td>\n",
       "      <td>False</td>\n",
       "      <td></td>\n",
       "    </tr>\n",
       "    <tr>\n",
       "      <th>10</th>\n",
       "      <td>tls_handshake_time_ms</td>\n",
       "      <td>double</td>\n",
       "      <td>False</td>\n",
       "      <td></td>\n",
       "    </tr>\n",
       "    <tr>\n",
       "      <th>11</th>\n",
       "      <td>received_bytes</td>\n",
       "      <td>bigint</td>\n",
       "      <td>False</td>\n",
       "      <td></td>\n",
       "    </tr>\n",
       "    <tr>\n",
       "      <th>12</th>\n",
       "      <td>sent_bytes</td>\n",
       "      <td>bigint</td>\n",
       "      <td>False</td>\n",
       "      <td></td>\n",
       "    </tr>\n",
       "    <tr>\n",
       "      <th>13</th>\n",
       "      <td>incoming_tls_alert</td>\n",
       "      <td>int</td>\n",
       "      <td>False</td>\n",
       "      <td></td>\n",
       "    </tr>\n",
       "    <tr>\n",
       "      <th>14</th>\n",
       "      <td>cert_arn</td>\n",
       "      <td>string</td>\n",
       "      <td>False</td>\n",
       "      <td></td>\n",
       "    </tr>\n",
       "    <tr>\n",
       "      <th>15</th>\n",
       "      <td>certificate_serial</td>\n",
       "      <td>string</td>\n",
       "      <td>False</td>\n",
       "      <td></td>\n",
       "    </tr>\n",
       "    <tr>\n",
       "      <th>16</th>\n",
       "      <td>tls_cipher_suite</td>\n",
       "      <td>string</td>\n",
       "      <td>False</td>\n",
       "      <td></td>\n",
       "    </tr>\n",
       "    <tr>\n",
       "      <th>17</th>\n",
       "      <td>tls_protocol_version</td>\n",
       "      <td>string</td>\n",
       "      <td>False</td>\n",
       "      <td></td>\n",
       "    </tr>\n",
       "    <tr>\n",
       "      <th>18</th>\n",
       "      <td>tls_named_group</td>\n",
       "      <td>string</td>\n",
       "      <td>False</td>\n",
       "      <td></td>\n",
       "    </tr>\n",
       "    <tr>\n",
       "      <th>19</th>\n",
       "      <td>domain_name</td>\n",
       "      <td>string</td>\n",
       "      <td>False</td>\n",
       "      <td></td>\n",
       "    </tr>\n",
       "    <tr>\n",
       "      <th>20</th>\n",
       "      <td>alpn_fe_protocol</td>\n",
       "      <td>string</td>\n",
       "      <td>False</td>\n",
       "      <td></td>\n",
       "    </tr>\n",
       "    <tr>\n",
       "      <th>21</th>\n",
       "      <td>alpn_be_protocol</td>\n",
       "      <td>string</td>\n",
       "      <td>False</td>\n",
       "      <td></td>\n",
       "    </tr>\n",
       "    <tr>\n",
       "      <th>22</th>\n",
       "      <td>alpn_client_preference_list</td>\n",
       "      <td>string</td>\n",
       "      <td>False</td>\n",
       "      <td></td>\n",
       "    </tr>\n",
       "    <tr>\n",
       "      <th>23</th>\n",
       "      <td>tls_connection_creation_time</td>\n",
       "      <td>string</td>\n",
       "      <td>False</td>\n",
       "      <td></td>\n",
       "    </tr>\n",
       "    <tr>\n",
       "      <th>24</th>\n",
       "      <td>date_day</td>\n",
       "      <td>string</td>\n",
       "      <td>True</td>\n",
       "      <td></td>\n",
       "    </tr>\n",
       "  </tbody>\n",
       "</table>\n",
       "</div>"
      ],
      "text/plain": [
       "                     Column Name    Type  Partition Comment\n",
       "0                           type  string      False        \n",
       "1                        version  string      False        \n",
       "2                           time  string      False        \n",
       "3                            elb  string      False        \n",
       "4                    listener_id  string      False        \n",
       "5                      client_ip  string      False        \n",
       "6                    client_port     int      False        \n",
       "7                      target_ip  string      False        \n",
       "8                    target_port     int      False        \n",
       "9         tcp_connection_time_ms  double      False        \n",
       "10         tls_handshake_time_ms  double      False        \n",
       "11                received_bytes  bigint      False        \n",
       "12                    sent_bytes  bigint      False        \n",
       "13            incoming_tls_alert     int      False        \n",
       "14                      cert_arn  string      False        \n",
       "15            certificate_serial  string      False        \n",
       "16              tls_cipher_suite  string      False        \n",
       "17          tls_protocol_version  string      False        \n",
       "18               tls_named_group  string      False        \n",
       "19                   domain_name  string      False        \n",
       "20              alpn_fe_protocol  string      False        \n",
       "21              alpn_be_protocol  string      False        \n",
       "22   alpn_client_preference_list  string      False        \n",
       "23  tls_connection_creation_time  string      False        \n",
       "24                      date_day  string       True        "
      ]
     },
     "execution_count": 4,
     "metadata": {},
     "output_type": "execute_result"
    }
   ],
   "source": [
    "# show schema of nlb logs\n",
    "wr.catalog.table(database=DATABASE, table=TABLE)\n"
   ]
  },
  {
   "cell_type": "markdown",
   "id": "b7a07c70",
   "metadata": {},
   "source": [
    "Only date_day is a partition key. We will specify date_day in the WHERE clause of each sql query to reduce the quantity of scanned data in the bucket, so to reduce cost and have faster queries.  "
   ]
  },
  {
   "cell_type": "markdown",
   "metadata": {},
   "source": [
    "### Execute the query using awswrangler\n",
    "The Athena workgroup is set to `primary`, and the region is `eu-west-1`. Below we define a function to easily run all our sql queries without the need to repeat the database name and the other parameters each time. "
   ]
  },
  {
   "cell_type": "code",
   "execution_count": 5,
   "id": "2c0bc46f",
   "metadata": {},
   "outputs": [
    {
     "data": {
      "text/html": [
       "<div>\n",
       "<style scoped>\n",
       "    .dataframe tbody tr th:only-of-type {\n",
       "        vertical-align: middle;\n",
       "    }\n",
       "\n",
       "    .dataframe tbody tr th {\n",
       "        vertical-align: top;\n",
       "    }\n",
       "\n",
       "    .dataframe thead th {\n",
       "        text-align: right;\n",
       "    }\n",
       "</style>\n",
       "<table border=\"1\" class=\"dataframe\">\n",
       "  <thead>\n",
       "    <tr style=\"text-align: right;\">\n",
       "      <th></th>\n",
       "      <th>_col0</th>\n",
       "    </tr>\n",
       "  </thead>\n",
       "  <tbody>\n",
       "    <tr>\n",
       "      <th>0</th>\n",
       "      <td>1</td>\n",
       "    </tr>\n",
       "  </tbody>\n",
       "</table>\n",
       "</div>"
      ],
      "text/plain": [
       "   _col0\n",
       "0      1"
      ]
     },
     "execution_count": 5,
     "metadata": {},
     "output_type": "execute_result"
    }
   ],
   "source": [
    "# Define the function to run Athena query and return Pandas DataFrame\n",
    "def query_athena(sql_query):\n",
    "    # Execute the query using awswrangler and return the result as a DataFrame\n",
    "    df = wr.athena.read_sql_query(\n",
    "        sql=sql_query,\n",
    "        database=DATABASE,\n",
    "        workgroup=WORKGROUP,\n",
    "        s3_output=S3_OUTPUT,\n",
    "        ctas_approach=False  \n",
    "    )\n",
    "    \n",
    "    return df\n",
    "\n",
    "query_athena(f\"select 1 \") # to test that the function is working properly\n"
   ]
  },
  {
   "cell_type": "markdown",
   "id": "0175c1dc",
   "metadata": {},
   "source": [
    "### First view of the data"
   ]
  },
  {
   "cell_type": "code",
   "execution_count": null,
   "id": "8d39fba6",
   "metadata": {},
   "outputs": [],
   "source": [
    "start_time = START_TIME_DURING_ISSUE\n",
    "end_time = END_TIME_DURING_ISSUE\n",
    "query = f'''\n",
    "SELECT *\n",
    "FROM access_logs_nlb\n",
    "WHERE tls_connection_creation_time > '{start_time}'\n",
    "AND tls_connection_creation_time < '{end_time}'\n",
    "AND date_day = '{DATE_DAY}'  -- partition key, mandatory filter to reduce quantity of scanned data and thus reduce costs\n",
    "'''\n",
    "query_athena(query)\n"
   ]
  },
  {
   "cell_type": "markdown",
   "id": "011fa2d0",
   "metadata": {},
   "source": [
    "The query above is a first basic query which shows the content of the access log in pandas format for the time period where the issue appeared. For more informations regarding the columns and their contents, see the table schema above and the explanations of each column here : https://docs.aws.amazon.com/elasticloadbalancing/latest/network/load-balancer-access-logs.html"
   ]
  },
  {
   "cell_type": "markdown",
   "id": "3f22f4d2",
   "metadata": {},
   "source": [
    "### Identifying the number of connections to the load balancer before and during the issue "
   ]
  },
  {
   "cell_type": "markdown",
   "id": "1b396f09",
   "metadata": {},
   "source": [
    "#### Before the issue"
   ]
  },
  {
   "cell_type": "code",
   "execution_count": null,
   "id": "4e61d9cb",
   "metadata": {},
   "outputs": [],
   "source": [
    "start_time = START_TIME_BEFORE_ISSUE\n",
    "end_time = END_TIME_BEFORE_ISSUE\n",
    "query = f'''\n",
    "SELECT COUNT(num_lign) as nb_of_requests\n",
    "FROM (\n",
    "SELECT row_number()over() as num_lign, time, client_ip, target_ip, target_port, tcp_connection_time_ms, tls_handshake_time_ms, received_bytes, sent_bytes, tls_protocol_version, domain_name, tls_connection_creation_time \n",
    "FROM access_logs_nlb\n",
    "WHERE tls_connection_creation_time > '{start_time}'\n",
    "AND tls_connection_creation_time < '{end_time}'\n",
    "AND date_day = '{DATE_DAY}'  -- partition key, mandatory filter to reduce quantity of scanned data and thus reduce costs\n",
    ")\n",
    "'''\n",
    "query_athena(query)\n"
   ]
  },
  {
   "cell_type": "markdown",
   "id": "8118c145",
   "metadata": {},
   "source": [
    "#### During the issue"
   ]
  },
  {
   "cell_type": "code",
   "execution_count": null,
   "id": "2e53432f",
   "metadata": {},
   "outputs": [],
   "source": [
    "start_time = START_TIME_DURING_ISSUE\n",
    "end_time = END_TIME_DURING_ISSUE\n",
    "query = f'''\n",
    "SELECT COUNT(num_lign) as nb_of_requests\n",
    "FROM (\n",
    "SELECT row_number()over() as num_lign, time, client_ip, target_ip, target_port, tcp_connection_time_ms, tls_handshake_time_ms, received_bytes, sent_bytes, tls_protocol_version, domain_name, tls_connection_creation_time \n",
    "FROM access_logs_nlb\n",
    "WHERE tls_connection_creation_time > '{start_time}'\n",
    "AND tls_connection_creation_time < '{end_time}'\n",
    "AND date_day = '{DATE_DAY}'  -- partition key, mandatory filter to reduce quantity of scanned data and thus reduce costs\n",
    ")\n",
    "'''\n",
    "query_athena(query)\n"
   ]
  },
  {
   "cell_type": "markdown",
   "id": "aaac06e8",
   "metadata": {},
   "source": [
    "#### Compare results before and during the issue \n",
    "\n",
    "Running the two queries above we indeed confirm that there is 3 times more requests to the load balancer during the issue compared to before the issue"
   ]
  },
  {
   "cell_type": "markdown",
   "id": "a34ff18b",
   "metadata": {},
   "source": [
    "### Identifying how many distinct client ips have done queries to the load balancer before and during the issue "
   ]
  },
  {
   "cell_type": "markdown",
   "id": "1b396f09",
   "metadata": {},
   "source": [
    "#### Before the issue"
   ]
  },
  {
   "cell_type": "code",
   "execution_count": null,
   "id": "4e61d9cb",
   "metadata": {},
   "outputs": [],
   "source": [
    "start_time = START_TIME_BEFORE_ISSUE\n",
    "end_time = END_TIME_BEFORE_ISSUE\n",
    "query = f'''\n",
    " SELECT COUNT(distinct client_ip ) as nb_of_client_ip\n",
    "FROM (\n",
    "SELECT row_number()over() as num_lign, time, client_ip, target_ip, target_port, tcp_connection_time_ms, tls_handshake_time_ms, received_bytes, sent_bytes, tls_protocol_version, domain_name, tls_connection_creation_time \n",
    "FROM access_logs_nlb\n",
    "WHERE tls_connection_creation_time > '{start_time}'\n",
    "AND tls_connection_creation_time < '{end_time}'\n",
    "AND date_day = '{DATE_DAY}'  -- partition key, mandatory filter to reduce quantity of scanned data and thus reduce costs\n",
    ")\n",
    "'''\n",
    "query_athena(query)\n"
   ]
  },
  {
   "cell_type": "markdown",
   "id": "8118c145",
   "metadata": {},
   "source": [
    "#### During the issue"
   ]
  },
  {
   "cell_type": "code",
   "execution_count": null,
   "id": "2e53432f",
   "metadata": {},
   "outputs": [],
   "source": [
    "start_time = START_TIME_DURING_ISSUE\n",
    "end_time = END_TIME_DURING_ISSUE\n",
    "query = f'''\n",
    " SELECT COUNT(distinct client_ip ) as nb_of_client_ip\n",
    "FROM (\n",
    "SELECT row_number()over() as num_lign, time, client_ip, target_ip, target_port, tcp_connection_time_ms, tls_handshake_time_ms, received_bytes, sent_bytes, tls_protocol_version, domain_name, tls_connection_creation_time \n",
    "FROM access_logs_nlb\n",
    "WHERE tls_connection_creation_time > '{start_time}'\n",
    "AND tls_connection_creation_time < '{end_time}'\n",
    "AND date_day = '{DATE_DAY}'  -- partition key, mandatory filter to reduce quantity of scanned data and thus reduce costs\n",
    ")\n",
    "'''\n",
    "query_athena(query)\n"
   ]
  },
  {
   "cell_type": "markdown",
   "id": "aaac06e8",
   "metadata": {},
   "source": [
    "#### Compare results before and during the issue \n",
    "\n",
    "There is less client ips making queries during the issue. We suppose this is an abnormal situation, there might be some specific ips generating an unwanted high traffic"
   ]
  },
  {
   "cell_type": "markdown",
   "id": "3f22f4d2",
   "metadata": {},
   "source": [
    "### Identifying the number of connections per tcp port"
   ]
  },
  {
   "cell_type": "markdown",
   "id": "1b396f09",
   "metadata": {},
   "source": [
    "#### Before the issue"
   ]
  },
  {
   "cell_type": "code",
   "execution_count": null,
   "id": "4e61d9cb",
   "metadata": {},
   "outputs": [],
   "source": [
    "start_time = START_TIME_BEFORE_ISSUE\n",
    "end_time = END_TIME_BEFORE_ISSUE\n",
    "query = f'''\n",
    "SELECT  target_port , COUNT(num_lign) as connections_on_this_port\n",
    "FROM (\n",
    "SELECT row_number()over() as num_lign, time, client_ip, target_ip, target_port, tcp_connection_time_ms, tls_handshake_time_ms, received_bytes, sent_bytes, tls_protocol_version, domain_name, tls_connection_creation_time \n",
    "FROM access_logs_nlb\n",
    "WHERE tls_connection_creation_time > '{start_time}'\n",
    "AND tls_connection_creation_time < '{end_time}'\n",
    "AND date_day = '{DATE_DAY}'  -- partition key, mandatory filter to reduce quantity of scanned data and thus reduce costs\n",
    "-- LIMIT 10\n",
    ")\n",
    "GROUP BY target_port\n",
    "'''\n",
    "query_athena(query)\n"
   ]
  },
  {
   "cell_type": "markdown",
   "id": "8118c145",
   "metadata": {},
   "source": [
    "#### During the issue"
   ]
  },
  {
   "cell_type": "code",
   "execution_count": null,
   "id": "2e53432f",
   "metadata": {},
   "outputs": [],
   "source": [
    "start_time = START_TIME_DURING_ISSUE\n",
    "end_time = END_TIME_DURING_ISSUE\n",
    "query = f'''\n",
    "SELECT  target_port , COUNT(num_lign) as connections_on_this_port\n",
    "FROM (\n",
    "SELECT row_number()over() as num_lign, time, client_ip, target_ip, target_port, tcp_connection_time_ms, tls_handshake_time_ms, received_bytes, sent_bytes, tls_protocol_version, domain_name, tls_connection_creation_time \n",
    "FROM access_logs_nlb\n",
    "WHERE tls_connection_creation_time > '{start_time}'\n",
    "AND tls_connection_creation_time < '{end_time}'\n",
    "AND date_day = '{DATE_DAY}'  -- partition key, mandatory filter to reduce quantity of scanned data and thus reduce costs\n",
    "-- LIMIT 10\n",
    ")\n",
    "GROUP BY target_port\n",
    "'''\n",
    "query_athena(query)\n"
   ]
  },
  {
   "cell_type": "markdown",
   "id": "aaac06e8",
   "metadata": {},
   "source": [
    "#### Compare results before and during the issue \n",
    "\n",
    "- Port 8080 : same before and during the issue\n",
    "- Port 443 :  x5 during the issue\n",
    "\n",
    "As connection increased only for port 443, we now decide to focus our analysis on port 443"
   ]
  },
  {
   "cell_type": "markdown",
   "id": "3f22f4d2",
   "metadata": {},
   "source": [
    "### Identifying the number of connections per domain"
   ]
  },
  {
   "cell_type": "markdown",
   "id": "1b396f09",
   "metadata": {},
   "source": [
    "#### Before the issue"
   ]
  },
  {
   "cell_type": "code",
   "execution_count": null,
   "id": "4e61d9cb",
   "metadata": {},
   "outputs": [],
   "source": [
    "start_time = START_TIME_BEFORE_ISSUE\n",
    "end_time = END_TIME_BEFORE_ISSUE\n",
    "query = f'''\n",
    "SELECT  domain_name , COUNT(num_lign) as connections_on_this_domain_name\n",
    "FROM (\n",
    "SELECT row_number()over() as num_lign, time, client_ip, target_ip, target_port, tcp_connection_time_ms, tls_handshake_time_ms, received_bytes, sent_bytes, tls_protocol_version, domain_name, tls_connection_creation_time \n",
    "FROM access_logs_nlb\n",
    "WHERE tls_connection_creation_time > '{start_time}'\n",
    "AND tls_connection_creation_time < '{end_time}'\n",
    "AND date_day = '{DATE_DAY}'  -- partition key, mandatory filter to reduce quantity of scanned data and thus reduce costs\n",
    "AND target_port = 443\n",
    "-- LIMIT 10\n",
    ")\n",
    "GROUP BY domain_name\n",
    "'''\n",
    "query_athena(query)\n"
   ]
  },
  {
   "cell_type": "markdown",
   "id": "8118c145",
   "metadata": {},
   "source": [
    "#### During the issue"
   ]
  },
  {
   "cell_type": "code",
   "execution_count": null,
   "id": "2e53432f",
   "metadata": {},
   "outputs": [],
   "source": [
    "start_time = START_TIME_DURING_ISSUE\n",
    "end_time = END_TIME_DURING_ISSUE\n",
    "query = f'''\n",
    "SELECT  domain_name , COUNT(num_lign) as connections_on_this_domain_name\n",
    "FROM (\n",
    "SELECT row_number()over() as num_lign, time, client_ip, target_ip, target_port, tcp_connection_time_ms, tls_handshake_time_ms, received_bytes, sent_bytes, tls_protocol_version, domain_name, tls_connection_creation_time \n",
    "FROM access_logs_nlb\n",
    "WHERE tls_connection_creation_time > '{start_time}'\n",
    "AND tls_connection_creation_time < '{end_time}'\n",
    "AND date_day = '{DATE_DAY}'  -- partition key, mandatory filter to reduce quantity of scanned data and thus reduce costs\n",
    "AND target_port = 443\n",
    "-- LIMIT 10\n",
    ")\n",
    "GROUP BY domain_name\n",
    "'''\n",
    "query_athena(query)\n"
   ]
  },
  {
   "cell_type": "markdown",
   "id": "aaac06e8",
   "metadata": {},
   "source": [
    "#### Compare results before and during the issue \n",
    "\n",
    "Most of the new traffic comes for domain name api.XXX.com , so we now focus on this domain name for the analysis below"
   ]
  },
  {
   "cell_type": "markdown",
   "id": "3f22f4d2",
   "metadata": {},
   "source": [
    "### Identifying the number of connections per client ip"
   ]
  },
  {
   "cell_type": "markdown",
   "id": "1b396f09",
   "metadata": {},
   "source": [
    "#### Before the issue"
   ]
  },
  {
   "cell_type": "code",
   "execution_count": null,
   "id": "4e61d9cb",
   "metadata": {},
   "outputs": [],
   "source": [
    "start_time = START_TIME_BEFORE_ISSUE\n",
    "end_time = END_TIME_BEFORE_ISSUE\n",
    "query = f'''\n",
    "SELECT  client_ip , COUNT(num_lign) as connections_from_this_client_ip\n",
    "FROM (\n",
    "SELECT row_number()over() as num_lign, time, client_ip, target_ip, target_port, tcp_connection_time_ms, tls_handshake_time_ms, received_bytes, sent_bytes, tls_protocol_version, domain_name, tls_connection_creation_time \n",
    "FROM access_logs_nlb\n",
    "WHERE tls_connection_creation_time > '{start_time}'\n",
    "AND tls_connection_creation_time < '{end_time}'\n",
    "AND date_day = '{DATE_DAY}'  -- partition key, mandatory filter to reduce quantity of scanned data and thus reduce costs\n",
    "AND target_port = 443\n",
    "AND domain_name = 'api.XXX.com'\n",
    ")\n",
    "GROUP BY client_ip\n",
    "order by connections_from_this_client_ip desc\n",
    "limit 30\n",
    "'''\n",
    "query_athena(query)\n"
   ]
  },
  {
   "cell_type": "markdown",
   "id": "8118c145",
   "metadata": {},
   "source": [
    "#### During the issue"
   ]
  },
  {
   "cell_type": "code",
   "execution_count": null,
   "id": "2e53432f",
   "metadata": {},
   "outputs": [],
   "source": [
    "start_time = START_TIME_DURING_ISSUE\n",
    "end_time = END_TIME_DURING_ISSUE\n",
    "query = f'''\n",
    "SELECT  client_ip , COUNT(num_lign) as connections_from_this_client_ip\n",
    "FROM (\n",
    "SELECT row_number()over() as num_lign, time, client_ip, target_ip, target_port, tcp_connection_time_ms, tls_handshake_time_ms, received_bytes, sent_bytes, tls_protocol_version, domain_name, tls_connection_creation_time \n",
    "FROM access_logs_nlb\n",
    "WHERE tls_connection_creation_time > '{start_time}'\n",
    "AND tls_connection_creation_time < '{end_time}'\n",
    "AND date_day = '{DATE_DAY}'  -- partition key, mandatory filter to reduce quantity of scanned data and thus reduce costs\n",
    "AND target_port = 443\n",
    "AND domain_name = 'api.XXX.com'\n",
    "\n",
    ")\n",
    "GROUP BY client_ip\n",
    "order by connections_from_this_client_ip desc\n",
    "limit 30\n",
    "'''\n",
    "query_athena(query)\n"
   ]
  },
  {
   "cell_type": "markdown",
   "id": "aaac06e8",
   "metadata": {},
   "source": [
    "#### Compare results before and during the issue \n",
    "\n",
    "Thanks to the queries above we are able to identify the 30 most active client ips during the issue. We will now measure the average connection duration for those 30 most active client ips "
   ]
  },
  {
   "cell_type": "markdown",
   "id": "3f22f4d2",
   "metadata": {},
   "source": [
    "### Identifying the average connection duration for the 30 most active client ips on port 443"
   ]
  },
  {
   "cell_type": "markdown",
   "id": "1b396f09",
   "metadata": {},
   "source": [
    "#### Before the issue"
   ]
  },
  {
   "cell_type": "code",
   "execution_count": null,
   "id": "4e61d9cb",
   "metadata": {},
   "outputs": [],
   "source": [
    "start_time = START_TIME_BEFORE_ISSUE\n",
    "end_time = END_TIME_BEFORE_ISSUE\n",
    "query = f'''\n",
    "SELECT client_ip, round(avg(tcp_connection_time_ms)) as avg_tcp_connec_time_ms_port443\n",
    "FROM access_logs_nlb \n",
    "WHERE tls_connection_creation_time > '{start_time}'\n",
    "AND tls_connection_creation_time < '{end_time}'\n",
    "AND date_day = '{DATE_DAY}'  -- partition key, mandatory filter to reduce quantity of scanned data and thus reduce costs\n",
    "AND target_port = 443\n",
    "AND domain_name = 'api.XXX.com'\n",
    "AND client_ip in (\n",
    "SELECT client_ip FROM (\n",
    "SELECT  client_ip , COUNT(num_lign) as connections_from_this_client_ip\n",
    "FROM (\n",
    "SELECT row_number()over() as num_lign, time, client_ip, target_ip, target_port, tcp_connection_time_ms, tls_handshake_time_ms, received_bytes, sent_bytes, tls_protocol_version, domain_name, tls_connection_creation_time \n",
    "FROM access_logs_nlb\n",
    "WHERE tls_connection_creation_time > '{start_time}'\n",
    "AND tls_connection_creation_time < '{end_time}'\n",
    "AND date_day = '{DATE_DAY}'  -- partition key, mandatory filter to reduce quantity of scanned data and thus reduce costs\n",
    "AND domain_name = 'api.XXX.com'\n",
    "\n",
    ")\n",
    "GROUP BY client_ip\n",
    "order by connections_from_this_client_ip desc\n",
    "limit 30\n",
    "))\n",
    "group by client_ip\n",
    "order by avg_tcp_connec_time_ms desc\n",
    "'''\n",
    "query_athena(query)\n"
   ]
  },
  {
   "cell_type": "markdown",
   "id": "8118c145",
   "metadata": {},
   "source": [
    "#### During the issue"
   ]
  },
  {
   "cell_type": "code",
   "execution_count": null,
   "id": "2e53432f",
   "metadata": {},
   "outputs": [],
   "source": [
    "start_time = START_TIME_DURING_ISSUE\n",
    "end_time = END_TIME_DURING_ISSUE\n",
    "query = f'''\n",
    "SELECT client_ip, round(avg(tcp_connection_time_ms)) as avg_tcp_connec_time_ms_port443\n",
    "FROM access_logs_nlb \n",
    "WHERE tls_connection_creation_time > '{start_time}'\n",
    "AND tls_connection_creation_time < '{end_time}'\n",
    "AND date_day = '{DATE_DAY}'  -- partition key, mandatory filter to reduce quantity of scanned data and thus reduce costs\n",
    "AND target_port = 443\n",
    "AND domain_name = 'api.XXX.com'\n",
    "AND client_ip in (\n",
    "SELECT client_ip FROM (\n",
    "SELECT  client_ip , COUNT(num_lign) as connections_from_this_client_ip\n",
    "FROM (\n",
    "SELECT row_number()over() as num_lign, time, client_ip, target_ip, target_port, tcp_connection_time_ms, tls_handshake_time_ms, received_bytes, sent_bytes, tls_protocol_version, domain_name, tls_connection_creation_time \n",
    "FROM access_logs_nlb\n",
    "WHERE tls_connection_creation_time > '{start_time}'\n",
    "AND tls_connection_creation_time < '{end_time}'\n",
    "AND date_day = '{DATE_DAY}'  -- partition key, mandatory filter to reduce quantity of scanned data and thus reduce costs\n",
    "AND domain_name = 'api.XXX.com'\n",
    "\n",
    ")\n",
    "GROUP BY client_ip\n",
    "order by connections_from_this_client_ip desc\n",
    "limit 30\n",
    "))\n",
    "group by client_ip\n",
    "order by avg_tcp_connec_time_ms desc\n",
    "'''\n",
    "query_athena(query)\n"
   ]
  },
  {
   "cell_type": "markdown",
   "id": "aaac06e8",
   "metadata": {},
   "source": [
    "#### Compare results before and during the issue \n",
    "\n",
    "We identified four ips which where part of the 30 more actives ips and moreover had a TCP connection duration bigger than 5 minutes, which is very high and abnormal: \n",
    "- 145.57.55.2\n",
    "- 78.58.21.1\n",
    "- 184.25.32.11\n",
    "- 47.2.1.2\n",
    "\n",
    "From our internal database we identified that those ips where owned by the client XXX and start a discussion with this client to understand why so many long queries where coming from those ips. "
   ]
  }
 ],
 "metadata": {
  "kernelspec": {
   "display_name": "Python 3",
   "language": "python",
   "name": "python3"
  },
  "language_info": {
   "codemirror_mode": {
    "name": "ipython",
    "version": 3
   },
   "file_extension": ".py",
   "mimetype": "text/x-python",
   "name": "python",
   "nbconvert_exporter": "python",
   "pygments_lexer": "ipython3",
   "version": "3.9.19"
  }
 },
 "nbformat": 4,
 "nbformat_minor": 2
}
